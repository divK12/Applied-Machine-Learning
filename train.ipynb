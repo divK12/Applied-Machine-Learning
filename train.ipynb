{
  "nbformat": 4,
  "nbformat_minor": 0,
  "metadata": {
    "colab": {
      "provenance": []
    },
    "kernelspec": {
      "name": "python3",
      "display_name": "Python 3"
    },
    "language_info": {
      "name": "python"
    }
  },
  "cells": [
    {
      "cell_type": "code",
      "source": [
        "import pandas as pd\n",
        "from sklearn.feature_extraction.text import TfidfVectorizer\n",
        "from sklearn.naive_bayes import MultinomialNB\n",
        "from sklearn.svm import SVC\n",
        "from sklearn.ensemble import RandomForestClassifier\n",
        "from sklearn.metrics import accuracy_score, classification_report\n"
      ],
      "metadata": {
        "id": "_Rigbfkia7az"
      },
      "execution_count": 17,
      "outputs": []
    },
    {
      "cell_type": "code",
      "source": [
        "def load_split_data(train_path='/content/train.csv', val_path='/content/validation.csv', test_path='/content/test.csv'):\n",
        "    train_df = pd.read_csv(train_path)\n",
        "    val_df = pd.read_csv(val_path)\n",
        "    test_df = pd.read_csv(test_path)\n",
        "    return train_df, val_df, test_df\n",
        "\n",
        "# Train model\n",
        "def train_model(model, X_train, y_train):\n",
        "    model.fit(X_train, y_train)\n",
        "    return model\n",
        "\n",
        "# Evaluate model\n",
        "def evaluate_model(model, X, y):\n",
        "    y_pred = model.predict(X)\n",
        "    accuracy = accuracy_score(y, y_pred)\n",
        "    report = classification_report(y, y_pred)\n",
        "    return accuracy, report\n"
      ],
      "metadata": {
        "id": "3we3anbjLHz3"
      },
      "execution_count": 18,
      "outputs": []
    },
    {
      "cell_type": "code",
      "source": [
        "# Main training pipeline\n",
        "def train_and_evaluate():\n",
        "    train_df, val_df, test_df = load_split_data()\n",
        "\n",
        "    vectorizer = TfidfVectorizer()\n",
        "    X_train = vectorizer.fit_transform(train_df['message'])\n",
        "    X_val = vectorizer.transform(val_df['message'])\n",
        "    X_test = vectorizer.transform(test_df['message'])\n",
        "\n",
        "    y_train, y_val, y_test = train_df['label'], val_df['label'], test_df['label']\n",
        "\n",
        "    models = {\n",
        "        'Naive Bayes': MultinomialNB(),\n",
        "        'SVM': SVC(),\n",
        "        'Random Forest': RandomForestClassifier(n_estimators=100)\n",
        "    }\n",
        "\n",
        "    best_model = None\n",
        "    best_acc = 0\n",
        "\n",
        "    for name, model in models.items():\n",
        "        print(f'\\n==============================')\n",
        "        print(f'Training {name}...')\n",
        "        print(f'==============================\\n')\n",
        "\n",
        "        model = train_model(model, X_train, y_train)\n",
        "        acc, report = evaluate_model(model, X_val, y_val)\n",
        "\n",
        "        print(f'\\nValidation Results for {name}:')\n",
        "        print(f'------------------------------')\n",
        "        print(f'Accuracy: {acc:.4f}\\n')\n",
        "        print(report)\n",
        "        print('==============================\\n')\n",
        "\n",
        "        if acc > best_acc:\n",
        "            best_acc = acc\n",
        "            best_model = model\n",
        "\n",
        "    print(f'Evaluating best model i.e {best_model} on test set...')\n",
        "    print('====================================\\n')\n",
        "    test_acc, test_report = evaluate_model(best_model, X_test, y_test)\n",
        "    print(f'Test Accuracy: {test_acc:.4f}\\n')\n",
        "    print(test_report)\n",
        "    print('====================================\\n')"
      ],
      "metadata": {
        "id": "EnThPHM_L7gV"
      },
      "execution_count": 19,
      "outputs": []
    },
    {
      "cell_type": "code",
      "source": [
        "train_and_evaluate()"
      ],
      "metadata": {
        "colab": {
          "base_uri": "https://localhost:8080/"
        },
        "id": "Lbqo7VkbL8dR",
        "outputId": "52514203-415c-4937-e806-2b665f97df6f"
      },
      "execution_count": 20,
      "outputs": [
        {
          "output_type": "stream",
          "name": "stdout",
          "text": [
            "\n",
            "==============================\n",
            "Training Naive Bayes...\n",
            "==============================\n",
            "\n",
            "\n",
            "Validation Results for Naive Bayes:\n",
            "------------------------------\n",
            "Accuracy: 0.9564\n",
            "\n",
            "              precision    recall  f1-score   support\n",
            "\n",
            "           0       0.95      1.00      0.98      1013\n",
            "           1       1.00      0.68      0.81       157\n",
            "\n",
            "    accuracy                           0.96      1170\n",
            "   macro avg       0.98      0.84      0.89      1170\n",
            "weighted avg       0.96      0.96      0.95      1170\n",
            "\n",
            "==============================\n",
            "\n",
            "\n",
            "==============================\n",
            "Training SVM...\n",
            "==============================\n",
            "\n",
            "\n",
            "Validation Results for SVM:\n",
            "------------------------------\n",
            "Accuracy: 0.9838\n",
            "\n",
            "              precision    recall  f1-score   support\n",
            "\n",
            "           0       0.98      1.00      0.99      1013\n",
            "           1       0.99      0.89      0.94       157\n",
            "\n",
            "    accuracy                           0.98      1170\n",
            "   macro avg       0.99      0.94      0.96      1170\n",
            "weighted avg       0.98      0.98      0.98      1170\n",
            "\n",
            "==============================\n",
            "\n",
            "\n",
            "==============================\n",
            "Training Random Forest...\n",
            "==============================\n",
            "\n",
            "\n",
            "Validation Results for Random Forest:\n",
            "------------------------------\n",
            "Accuracy: 0.9735\n",
            "\n",
            "              precision    recall  f1-score   support\n",
            "\n",
            "           0       0.97      1.00      0.98      1013\n",
            "           1       1.00      0.80      0.89       157\n",
            "\n",
            "    accuracy                           0.97      1170\n",
            "   macro avg       0.99      0.90      0.94      1170\n",
            "weighted avg       0.97      0.97      0.97      1170\n",
            "\n",
            "==============================\n",
            "\n",
            "Evaluating best model i.e SVC() on test set...\n",
            "====================================\n",
            "\n",
            "Test Accuracy: 0.9781\n",
            "\n",
            "              precision    recall  f1-score   support\n",
            "\n",
            "           0       0.98      1.00      0.99       435\n",
            "           1       0.98      0.85      0.91        67\n",
            "\n",
            "    accuracy                           0.98       502\n",
            "   macro avg       0.98      0.92      0.95       502\n",
            "weighted avg       0.98      0.98      0.98       502\n",
            "\n",
            "====================================\n",
            "\n"
          ]
        }
      ]
    },
    {
      "cell_type": "code",
      "source": [],
      "metadata": {
        "id": "vFcuRNWVL-0l"
      },
      "execution_count": null,
      "outputs": []
    }
  ]
}