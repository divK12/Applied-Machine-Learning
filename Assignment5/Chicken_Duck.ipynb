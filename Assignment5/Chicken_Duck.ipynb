{
  "nbformat": 4,
  "nbformat_minor": 0,
  "metadata": {
    "colab": {
      "provenance": [],
      "gpuType": "T4"
    },
    "kernelspec": {
      "name": "python3",
      "display_name": "Python 3"
    },
    "language_info": {
      "name": "python"
    },
    "accelerator": "GPU"
  },
  "cells": [
    {
      "cell_type": "code",
      "execution_count": null,
      "metadata": {
        "id": "TjAhkOYkz3nk"
      },
      "outputs": [],
      "source": [
        "!pip install torch torchvision"
      ]
    },
    {
      "cell_type": "code",
      "source": [
        "from google.colab import drive\n",
        "drive.mount('/content/drive')"
      ],
      "metadata": {
        "colab": {
          "base_uri": "https://localhost:8080/"
        },
        "id": "ipxspV0_FOVn",
        "outputId": "7b199496-6a7b-4cf1-d3b3-6290bbb023be"
      },
      "execution_count": 2,
      "outputs": [
        {
          "output_type": "stream",
          "name": "stdout",
          "text": [
            "Mounted at /content/drive\n"
          ]
        }
      ]
    },
    {
      "cell_type": "code",
      "source": [
        "import torch\n",
        "import torch.nn as nn\n",
        "import torch.optim as optim\n",
        "from torchvision import datasets, models, transforms\n",
        "from torch.utils.data import DataLoader\n",
        "from sklearn.metrics import classification_report, accuracy_score\n",
        "import numpy as np"
      ],
      "metadata": {
        "id": "7f3krvfu1ClD"
      },
      "execution_count": 9,
      "outputs": []
    },
    {
      "cell_type": "code",
      "source": [
        "device = torch.device('cuda' if torch.cuda.is_available() else 'cpu')\n",
        "print(f'Using device: {device}')"
      ],
      "metadata": {
        "colab": {
          "base_uri": "https://localhost:8080/"
        },
        "id": "pmuRp5ffEx7X",
        "outputId": "cfe3befe-80a5-4cbf-9467-e321a799a3e9"
      },
      "execution_count": 4,
      "outputs": [
        {
          "output_type": "stream",
          "name": "stdout",
          "text": [
            "Using device: cuda\n"
          ]
        }
      ]
    },
    {
      "cell_type": "code",
      "source": [
        "transform = transforms.Compose([\n",
        "    transforms.Resize((224, 224)),\n",
        "    transforms.ToTensor(),\n",
        "    transforms.Normalize(mean=[0.485, 0.456, 0.406],  # Imagenet means\n",
        "                         std=[0.229, 0.224, 0.225])    # Imagenet stds\n",
        "])"
      ],
      "metadata": {
        "id": "Hvrg63QZCXP5"
      },
      "execution_count": 5,
      "outputs": []
    },
    {
      "cell_type": "code",
      "source": [
        "dataset_path = '/content/drive/MyDrive/Dataset'\n",
        "full_dataset = datasets.ImageFolder(dataset_path, transform=transform)\n",
        "train_size = int(0.8 * len(full_dataset))\n",
        "test_size = len(full_dataset) - train_size\n",
        "train_dataset, test_dataset = torch.utils.data.random_split(full_dataset, [train_size, test_size])\n",
        "\n",
        "train_loader = DataLoader(train_dataset, batch_size=32, shuffle=True)\n",
        "test_loader = DataLoader(test_dataset, batch_size=32, shuffle=False)\n"
      ],
      "metadata": {
        "id": "KvbN21KSBSjI"
      },
      "execution_count": 14,
      "outputs": []
    },
    {
      "cell_type": "code",
      "source": [
        "model = models.resnet18(pretrained=True)\n",
        "\n",
        "# Freeze early layers\n",
        "for param in model.parameters():\n",
        "    param.requires_grad = False\n",
        "\n",
        "# Replace final layer\n",
        "num_ftrs = model.fc.in_features\n",
        "model.fc = nn.Linear(num_ftrs, 2)  # 2 classes: chicken and duck\n",
        "\n",
        "model = model.to(device)"
      ],
      "metadata": {
        "colab": {
          "base_uri": "https://localhost:8080/"
        },
        "id": "Qu7Z1viSFH2l",
        "outputId": "7c0b2eee-8d16-4a43-98dc-afc799392e74"
      },
      "execution_count": 22,
      "outputs": [
        {
          "output_type": "stream",
          "name": "stderr",
          "text": [
            "/usr/local/lib/python3.11/dist-packages/torchvision/models/_utils.py:208: UserWarning: The parameter 'pretrained' is deprecated since 0.13 and may be removed in the future, please use 'weights' instead.\n",
            "  warnings.warn(\n",
            "/usr/local/lib/python3.11/dist-packages/torchvision/models/_utils.py:223: UserWarning: Arguments other than a weight enum or `None` for 'weights' are deprecated since 0.13 and may be removed in the future. The current behavior is equivalent to passing `weights=ResNet18_Weights.IMAGENET1K_V1`. You can also use `weights=ResNet18_Weights.DEFAULT` to get the most up-to-date weights.\n",
            "  warnings.warn(msg)\n"
          ]
        }
      ]
    },
    {
      "cell_type": "code",
      "source": [
        "model.eval()\n",
        "correct = 0\n",
        "total = 0\n",
        "with torch.no_grad():\n",
        "    for inputs, labels in test_loader:\n",
        "        inputs, labels = inputs.to(device), labels.to(device)\n",
        "        outputs = model(inputs)\n",
        "        _, predicted = torch.max(outputs, 1)\n",
        "        total += labels.size(0)\n",
        "        correct += (predicted == labels).sum().item()\n",
        "\n",
        "test_acc = correct / total\n",
        "print(f\"Test Accuracy: {test_acc:.4f}\")"
      ],
      "metadata": {
        "colab": {
          "base_uri": "https://localhost:8080/"
        },
        "id": "1OzhZwXvF9hZ",
        "outputId": "1ac20116-a44d-46ca-87a3-5ed5ea2adf1d"
      },
      "execution_count": 18,
      "outputs": [
        {
          "output_type": "stream",
          "name": "stdout",
          "text": [
            "Test Accuracy: 0.6548\n"
          ]
        }
      ]
    },
    {
      "cell_type": "code",
      "source": [
        "# 5. Loss and Optimizer\n",
        "criterion = nn.CrossEntropyLoss()\n",
        "optimizer = optim.Adam(model.fc.parameters(), lr=0.001)\n",
        "\n",
        "# 6. Training Loop\n",
        "epochs = 50\n",
        "for epoch in range(epochs):\n",
        "    model.train()\n",
        "    running_loss = 0.0\n",
        "\n",
        "    for inputs, labels in train_loader:\n",
        "        inputs, labels = inputs.to(device), labels.to(device)\n",
        "\n",
        "        optimizer.zero_grad()\n",
        "\n",
        "        outputs = model(inputs)\n",
        "        loss = criterion(outputs, labels)\n",
        "        loss.backward()\n",
        "        optimizer.step()\n",
        "\n",
        "        running_loss += loss.item()\n",
        "\n",
        "    print(f'Epoch {epoch+1}/{epochs}, Loss: {running_loss/len(train_loader):.4f}')\n"
      ],
      "metadata": {
        "colab": {
          "base_uri": "https://localhost:8080/"
        },
        "id": "ed104hcPFgMQ",
        "outputId": "8b16dff0-945f-4cc1-8e9c-dabd35a5bf8d"
      },
      "execution_count": 23,
      "outputs": [
        {
          "output_type": "stream",
          "name": "stdout",
          "text": [
            "Epoch 1/50, Loss: 0.3890\n",
            "Epoch 2/50, Loss: 0.1987\n",
            "Epoch 3/50, Loss: 0.1615\n",
            "Epoch 4/50, Loss: 0.1440\n",
            "Epoch 5/50, Loss: 0.1323\n",
            "Epoch 6/50, Loss: 0.1210\n",
            "Epoch 7/50, Loss: 0.1012\n",
            "Epoch 8/50, Loss: 0.1117\n",
            "Epoch 9/50, Loss: 0.1140\n",
            "Epoch 10/50, Loss: 0.0953\n",
            "Epoch 11/50, Loss: 0.0946\n",
            "Epoch 12/50, Loss: 0.0812\n",
            "Epoch 13/50, Loss: 0.1038\n",
            "Epoch 14/50, Loss: 0.0927\n",
            "Epoch 15/50, Loss: 0.0813\n",
            "Epoch 16/50, Loss: 0.0818\n",
            "Epoch 17/50, Loss: 0.0932\n",
            "Epoch 18/50, Loss: 0.0795\n",
            "Epoch 19/50, Loss: 0.0732\n",
            "Epoch 20/50, Loss: 0.0804\n",
            "Epoch 21/50, Loss: 0.0680\n",
            "Epoch 22/50, Loss: 0.0739\n",
            "Epoch 23/50, Loss: 0.0617\n",
            "Epoch 24/50, Loss: 0.0607\n",
            "Epoch 25/50, Loss: 0.0683\n",
            "Epoch 26/50, Loss: 0.0648\n",
            "Epoch 27/50, Loss: 0.0577\n",
            "Epoch 28/50, Loss: 0.0581\n",
            "Epoch 29/50, Loss: 0.0539\n",
            "Epoch 30/50, Loss: 0.0622\n",
            "Epoch 31/50, Loss: 0.0528\n",
            "Epoch 32/50, Loss: 0.0617\n",
            "Epoch 33/50, Loss: 0.0617\n",
            "Epoch 34/50, Loss: 0.0534\n",
            "Epoch 35/50, Loss: 0.0664\n",
            "Epoch 36/50, Loss: 0.0540\n",
            "Epoch 37/50, Loss: 0.0646\n",
            "Epoch 38/50, Loss: 0.0441\n",
            "Epoch 39/50, Loss: 0.0531\n",
            "Epoch 40/50, Loss: 0.0490\n",
            "Epoch 41/50, Loss: 0.0568\n",
            "Epoch 42/50, Loss: 0.0657\n",
            "Epoch 43/50, Loss: 0.0532\n",
            "Epoch 44/50, Loss: 0.0502\n",
            "Epoch 45/50, Loss: 0.0485\n",
            "Epoch 46/50, Loss: 0.0378\n",
            "Epoch 47/50, Loss: 0.0465\n",
            "Epoch 48/50, Loss: 0.0428\n",
            "Epoch 49/50, Loss: 0.0532\n",
            "Epoch 50/50, Loss: 0.0386\n"
          ]
        }
      ]
    },
    {
      "cell_type": "code",
      "source": [
        "# 7. Evaluation\n",
        "model.eval()\n",
        "all_preds = []\n",
        "all_labels = []\n",
        "\n",
        "with torch.no_grad():\n",
        "    for inputs, labels in test_loader:\n",
        "        inputs, labels = inputs.to(device), labels.to(device)\n",
        "        outputs = model(inputs)\n",
        "        _, preds = torch.max(outputs, 1)\n",
        "\n",
        "        all_preds.extend(preds.cpu().numpy())\n",
        "        all_labels.extend(labels.cpu().numpy())\n",
        "\n",
        "# 8. Classification Report\n",
        "print(classification_report(all_labels, all_preds, target_names=['chicken', 'duck']))"
      ],
      "metadata": {
        "colab": {
          "base_uri": "https://localhost:8080/"
        },
        "id": "VGx5odvrFiwy",
        "outputId": "6ccbd961-cad4-467d-81ef-cdf0c9f16aae"
      },
      "execution_count": 24,
      "outputs": [
        {
          "output_type": "stream",
          "name": "stdout",
          "text": [
            "              precision    recall  f1-score   support\n",
            "\n",
            "     chicken       0.93      0.93      0.93        96\n",
            "        duck       0.97      0.97      0.97       214\n",
            "\n",
            "    accuracy                           0.95       310\n",
            "   macro avg       0.95      0.95      0.95       310\n",
            "weighted avg       0.95      0.95      0.95       310\n",
            "\n"
          ]
        }
      ]
    },
    {
      "cell_type": "code",
      "source": [],
      "metadata": {
        "id": "rKGfWxk5SoZN"
      },
      "execution_count": null,
      "outputs": []
    }
  ]
}