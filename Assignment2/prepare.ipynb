{
  "cells": [
    {
      "cell_type": "code",
      "execution_count": 30,
      "metadata": {
        "colab": {
          "base_uri": "https://localhost:8080/"
        },
        "id": "5qN-c_Kcu4w6",
        "outputId": "e6e27e94-b8ba-40b3-d9d5-ec62d75db3c5"
      },
      "outputs": [
        {
          "name": "stderr",
          "output_type": "stream",
          "text": [
            "[nltk_data] Downloading package stopwords to\n",
            "[nltk_data]     C:\\Users\\LENOVO\\AppData\\Roaming\\nltk_data...\n",
            "[nltk_data]   Package stopwords is already up-to-date!\n"
          ]
        }
      ],
      "source": [
        "import pandas as pd\n",
        "import seaborn as sns\n",
        "import matplotlib.pyplot as plt\n",
        "from sklearn.model_selection import train_test_split\n",
        "import nltk\n",
        "nltk.download('stopwords')\n",
        "from nltk.corpus import stopwords\n",
        "import nltk"
      ]
    },
    {
      "cell_type": "code",
      "execution_count": 31,
      "metadata": {
        "id": "EXIOrniGd0rR"
      },
      "outputs": [],
      "source": [
        "def load_data(file_path):\n",
        "    \"\"\"Load the SMS spam dataset from the given file path.\"\"\"\n",
        "    data = pd.read_csv(file_path, sep='\\t', header=None, names=['label', 'message'])\n",
        "    return data\n",
        "\n",
        "def preprocess_data(data):\n",
        "    \"\"\"Preprocess the data if needed (e.g., cleaning, normalization).\"\"\"\n",
        "    # Convert labels to binary\n",
        "    data['label'] = data['label'].map({'spam': 1, 'ham': 0})\n",
        "    return data\n",
        "\n",
        "def split_data(data,rstate=42):\n",
        "    \"\"\"Split the data into train, validation, and test sets.\"\"\"\n",
        "    train_data, temp_data = train_test_split(data, test_size=0.3, random_state=rstate, stratify=data['label'])\n",
        "    validation_data, test_data = train_test_split(temp_data, test_size=0.3, random_state=42, stratify=temp_data['label'])\n",
        "\n",
        "    return train_data, validation_data, test_data\n",
        "\n",
        "def save_splits(train_data, validation_data, test_data):\n",
        "    \"\"\"Save the train, validation, and test splits to CSV files.\"\"\"\n",
        "    train_data.to_csv('train.csv', index=False)\n",
        "    validation_data.to_csv('validation.csv', index=False)\n",
        "    test_data.to_csv('test.csv', index=False)\n"
      ]
    },
    {
      "cell_type": "code",
      "execution_count": 32,
      "metadata": {
        "colab": {
          "base_uri": "https://localhost:8080/",
          "height": 497
        },
        "id": "-t62_fLyZq0y",
        "outputId": "6ddddfc0-6b97-476b-acd3-f5f34c65929f"
      },
      "outputs": [],
      "source": [
        "file_path = \"SMSSpamCollection\"\n",
        "data = load_data(file_path)\n",
        "data.to_csv(\"raw_file.csv\",index=False)\n",
        "data = preprocess_data(data)\n",
        "\n",
        "\n",
        "train_data, validation_data, test_data = split_data(data)\n",
        "save_splits(train_data, validation_data, test_data)"
      ]
    },
    {
      "cell_type": "markdown",
      "metadata": {},
      "source": [
        "BASH Cmd"
      ]
    },
    {
      "cell_type": "code",
      "execution_count": 33,
      "metadata": {
        "id": "I4VBocYKZLh1"
      },
      "outputs": [
        {
          "name": "stderr",
          "output_type": "stream",
          "text": [
            "ERROR: failed to initiate DVC - '.dvc' exists. Use `-f` to force.\n"
          ]
        }
      ],
      "source": [
        "!dvc init --subdir\n"
      ]
    },
    {
      "cell_type": "code",
      "execution_count": 6,
      "metadata": {
        "id": "ovdsZfCKa3jf"
      },
      "outputs": [],
      "source": [
        "!dvc remote add myremote gdrive://1rMa8rr51HAvSXdh6VbHHOhsmO3Zym215"
      ]
    },
    {
      "cell_type": "code",
      "execution_count": 7,
      "metadata": {},
      "outputs": [],
      "source": [
        "!dvc remote modify myremote gdrive_client_id '515811952758-dk7nnrcfcfrtdm4dhftrlrq5q49a9cb8.apps.googleusercontent.com'\n",
        "!dvc remote modify myremote gdrive_client_secret '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'"
      ]
    },
    {
      "cell_type": "code",
      "execution_count": 8,
      "metadata": {},
      "outputs": [],
      "source": [
        "!dvc remote modify myremote gdrive_acknowledge_abuse true\n",
        "!dvc remote modify myremote gdrive_use_service_account true\n",
        "!dvc remote modify myremote --local \\\n",
        "              gdrive_service_account_json_file_path \"E:\\Downloads\\refined-analogy-452919-n7-1ca2cb3bdf65.json\""
      ]
    },
    {
      "cell_type": "code",
      "execution_count": 10,
      "metadata": {},
      "outputs": [
        {
          "name": "stdout",
          "output_type": "stream",
          "text": [
            "\n",
            "To track the changes with git, run:\n",
            "\n",
            "\tgit add .gitignore raw_file.csv.dvc test.csv.dvc train.csv.dvc validation.csv.dvc\n",
            "\n",
            "To enable auto staging, run:\n",
            "\n",
            "\tdvc config core.autostage true\n"
          ]
        },
        {
          "name": "stderr",
          "output_type": "stream",
          "text": [
            "⠋ Checking graph\n",
            "\n"
          ]
        },
        {
          "name": "stdout",
          "output_type": "stream",
          "text": [
            "[master c9aa320] Track data files with DVC\n",
            " 5 files changed, 24 insertions(+)\n",
            " create mode 100644 .gitignore\n",
            " create mode 100644 raw_file.csv.dvc\n",
            " create mode 100644 test.csv.dvc\n",
            " create mode 100644 train.csv.dvc\n",
            " create mode 100644 validation.csv.dvc\n"
          ]
        }
      ],
      "source": [
        "!dvc add raw_file.csv train.csv validation.csv test.csv\n",
        "!git add .gitignore raw_file.csv.dvc train.csv.dvc validation.csv.dvc test.csv.dvc\n",
        "!git commit -m \"Track data files with DVC\""
      ]
    },
    {
      "cell_type": "code",
      "execution_count": 11,
      "metadata": {},
      "outputs": [],
      "source": [
        "!dvc remote default myremote"
      ]
    },
    {
      "cell_type": "code",
      "execution_count": 12,
      "metadata": {},
      "outputs": [
        {
          "name": "stdout",
          "output_type": "stream",
          "text": [
            "4 files pushed\n"
          ]
        }
      ],
      "source": [
        "!dvc push"
      ]
    },
    {
      "cell_type": "markdown",
      "metadata": {},
      "source": [
        "Changed SEED"
      ]
    },
    {
      "cell_type": "code",
      "execution_count": 14,
      "metadata": {},
      "outputs": [],
      "source": [
        "train_data, validation_data, test_data = split_data(data,rstate=123)\n",
        "save_splits(train_data, validation_data, test_data)"
      ]
    },
    {
      "cell_type": "code",
      "execution_count": 15,
      "metadata": {},
      "outputs": [
        {
          "name": "stdout",
          "output_type": "stream",
          "text": [
            "\n",
            "To track the changes with git, run:\n",
            "\n",
            "\tgit add train.csv.dvc test.csv.dvc validation.csv.dvc\n",
            "\n",
            "To enable auto staging, run:\n",
            "\n",
            "\tdvc config core.autostage true\n"
          ]
        },
        {
          "name": "stderr",
          "output_type": "stream",
          "text": [
            "⠋ Checking graph\n",
            "\n"
          ]
        },
        {
          "name": "stdout",
          "output_type": "stream",
          "text": [
            "[master c4767b1] Updated data split with new random seed\n",
            " 3 files changed, 6 insertions(+), 6 deletions(-)\n"
          ]
        }
      ],
      "source": [
        "!dvc add train.csv validation.csv test.csv\n",
        "!git  add  train.csv.dvc validation.csv.dvc test.csv.dvc\n",
        "!git commit -m \"Updated data split with new random seed\""
      ]
    },
    {
      "cell_type": "code",
      "execution_count": 16,
      "metadata": {},
      "outputs": [
        {
          "name": "stdout",
          "output_type": "stream",
          "text": [
            "3 files pushed\n"
          ]
        }
      ],
      "source": [
        "!dvc push\n"
      ]
    },
    {
      "cell_type": "code",
      "execution_count": 22,
      "metadata": {},
      "outputs": [
        {
          "name": "stdout",
          "output_type": "stream",
          "text": [
            "Train Distribution:\n",
            "label\n",
            "0    3377\n",
            "1     523\n",
            "Name: count, dtype: int64\n",
            "\n",
            "Validation Distribution:\n",
            "label\n",
            "0    1013\n",
            "1     157\n",
            "Name: count, dtype: int64\n",
            "\n",
            "Test Distribution:\n",
            "label\n",
            "0    435\n",
            "1     67\n",
            "Name: count, dtype: int64\n",
            "\n",
            "Updated Train Distribution:\n",
            "label\n",
            "0    3377\n",
            "1     523\n",
            "Name: count, dtype: int64\n",
            "\n",
            "Updated Validation Distribution:\n",
            "label\n",
            "0    1013\n",
            "1     157\n",
            "Name: count, dtype: int64\n",
            "\n",
            "Updated Test Distribution:\n",
            "label\n",
            "0    435\n",
            "1     67\n",
            "Name: count, dtype: int64\n"
          ]
        }
      ],
      "source": [
        "import subprocess\n",
        "import pandas as pd\n",
        "\n",
        "# Track the data files with DVC\n",
        "subprocess.run([\"dvc\", \"add\", \"raw_data.csv\", \"train.csv\", \"validation.csv\", \"test.csv\"])\n",
        "subprocess.run([\"git\", \"add\", \".gitignore\", \"raw_data.csv.dvc\", \"train.csv.dvc\", \"validation.csv.dvc\", \"test.csv.dvc\"])\n",
        "subprocess.run([\"git\", \"commit\", \"-m\", \"Track data files with DVC\"])\n",
        "subprocess.run([\"dvc\", \"push\"])\n",
        "\n",
        "# Checkout the first version (before update)\n",
        "subprocess.run([\"git\", \"checkout\", \"HEAD~1\"])\n",
        "subprocess.run([\"dvc\", \"checkout\"])\n",
        "\n",
        "# Print distribution of target variable\n",
        "train_df = pd.read_csv('train.csv')\n",
        "val_df = pd.read_csv('validation.csv')\n",
        "test_df = pd.read_csv('test.csv')\n",
        "\n",
        "print(\"Train Distribution:\")\n",
        "print(train_df['label'].value_counts())\n",
        "print(\"\\nValidation Distribution:\")\n",
        "print(val_df['label'].value_counts())\n",
        "print(\"\\nTest Distribution:\")\n",
        "print(test_df['label'].value_counts())\n",
        "\n",
        "# Checkout the updated version\n",
        "subprocess.run([\"git\", \"checkout\", \"main\"])  # Switch back to main branch\n",
        "subprocess.run([\"dvc\", \"checkout\"])\n",
        "\n",
        "# Print distribution of target variable again\n",
        "train_df = pd.read_csv('train.csv')\n",
        "val_df = pd.read_csv('validation.csv')\n",
        "test_df = pd.read_csv('test.csv')\n",
        "\n",
        "print(\"\\nUpdated Train Distribution:\")\n",
        "print(train_df['label'].value_counts())\n",
        "print(\"\\nUpdated Validation Distribution:\")\n",
        "print(val_df['label'].value_counts())\n",
        "print(\"\\nUpdated Test Distribution:\")\n",
        "print(test_df['label'].value_counts())\n"
      ]
    },
    {
      "cell_type": "code",
      "execution_count": 29,
      "metadata": {},
      "outputs": [
        {
          "name": "stdout",
          "output_type": "stream",
          "text": [
            "HEAD detached from c9aa320\n",
            "nothing to commit, working tree clean\n"
          ]
        }
      ],
      "source": [
        "!git add .\n",
        "!git commit -m \"dvc.config\"\n"
      ]
    },
    {
      "cell_type": "code",
      "execution_count": null,
      "metadata": {},
      "outputs": [],
      "source": []
    }
  ],
  "metadata": {
    "colab": {
      "provenance": []
    },
    "kernelspec": {
      "display_name": "base",
      "language": "python",
      "name": "python3"
    },
    "language_info": {
      "codemirror_mode": {
        "name": "ipython",
        "version": 3
      },
      "file_extension": ".py",
      "mimetype": "text/x-python",
      "name": "python",
      "nbconvert_exporter": "python",
      "pygments_lexer": "ipython3",
      "version": "3.12.7"
    }
  },
  "nbformat": 4,
  "nbformat_minor": 0
}
